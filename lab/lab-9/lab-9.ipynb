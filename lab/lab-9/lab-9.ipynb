{
 "metadata": {
  "language_info": {
   "codemirror_mode": {
    "name": "ipython",
    "version": 3
   },
   "file_extension": ".py",
   "mimetype": "text/x-python",
   "name": "python",
   "nbconvert_exporter": "python",
   "pygments_lexer": "ipython3",
   "version": "3.8.5-final"
  },
  "orig_nbformat": 2,
  "kernelspec": {
   "name": "pythondsai",
   "display_name": "pythonDSAI"
  }
 },
 "nbformat": 4,
 "nbformat_minor": 2,
 "cells": [
  {
   "source": [
    "# Lab 9 - st121413\n",
    "## Akraradet Sinsamersuk"
   ],
   "cell_type": "markdown",
   "metadata": {}
  },
  {
   "cell_type": "code",
   "execution_count": 1,
   "metadata": {},
   "outputs": [],
   "source": [
    "import numpy as np\n",
    "import matplotlib.pyplot as plt\n",
    "import scipy.signal as signal\n",
    "from scipy.fftpack import fft, fftshift\n",
    "plt.style.use('seaborn-whitegrid')\n",
    "\n",
    "\n",
    "def calFFT(signal, window = 2048 , shift = False , inDB = False, half = True, normf=True, fs=None):\n",
    "    mag = np.abs(fft(signal, window) / (len(signal)/2.0))\n",
    "    freq = np.linspace(0, 1, len(mag))\n",
    "\n",
    "    if shift:\n",
    "        mag = np.abs(fftshift(mag / abs(mag).max() ) )\n",
    "        freq = np.linspace(-0.5, 0.5, len(mag))\n",
    "        \n",
    "    \n",
    "    if inDB:\n",
    "        mag = 20 * np.log10( mag )\n",
    "\n",
    "    if normf == False:\n",
    "        if fs == None:\n",
    "            raise ValueError(\"Give me 'fs'\")\n",
    "        freq = np.linspace(0, fs, len(mag) )\n",
    "\n",
    "    if half:\n",
    "        mag = mag[:len(mag)//2]\n",
    "        freq = freq[:len(freq)//2]\n",
    "\n",
    "\n",
    "\n",
    "    return mag, freq"
   ]
  },
  {
   "source": [
    "## 4.2 Random Processes"
   ],
   "cell_type": "markdown",
   "metadata": {}
  },
  {
   "cell_type": "code",
   "execution_count": null,
   "metadata": {},
   "outputs": [],
   "source": [
    "# 1. Generate and plot a sequence of normaly (Gaussian) distributed and uniformly distributed random numbers and their histograms."
   ]
  }
 ]
}