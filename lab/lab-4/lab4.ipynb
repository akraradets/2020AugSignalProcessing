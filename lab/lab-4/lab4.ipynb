{
 "metadata": {
  "language_info": {
   "codemirror_mode": {
    "name": "ipython",
    "version": 3
   },
   "file_extension": ".py",
   "mimetype": "text/x-python",
   "name": "python",
   "nbconvert_exporter": "python",
   "pygments_lexer": "ipython3",
   "version": "3.8.2-final"
  },
  "orig_nbformat": 2,
  "kernelspec": {
   "name": "python_defaultSpec_1600409229103",
   "display_name": "Python 3.8.2 64-bit ('pythonDSAI': venv)"
  }
 },
 "nbformat": 4,
 "nbformat_minor": 2,
 "cells": [
  {
   "source": [
    "# Lab4 Filter"
   ],
   "cell_type": "markdown",
   "metadata": {}
  },
  {
   "source": [
    "1. Describe in breif in the following filters\n",
    "- Butterworth\n",
    "- Chebyshev 1\n",
    "- Chebyshev 2\n",
    "- Ellipticol (Ellipticol)\n",
    "\n",
    "2. plot the frequency response of the above filters\n",
    "- Equiripple Amplitube Characeristic of the filters\n",
    "\n",
    "3. Demonstrate the use of above filters in removing noise from a signal."
   ],
   "cell_type": "markdown",
   "metadata": {}
  },
  {
   "cell_type": "code",
   "execution_count": 13,
   "metadata": {},
   "outputs": [],
   "source": [
    "import numpy as np\n",
    "import matplotlib.pyplot as plt\n",
    "import scipy.signal as signal\n",
    "import scipy.fft as fft\n",
    "%matplotlib widget\n",
    "plt.style.use('seaborn-whitegrid')\n",
    "\n",
    "def createSubplot(n):\n",
    "    fig,ax = plt.subplots(n)#,figsize=(10,10))\n",
    "    fig.tight_layout(pad=3.0)\n",
    "    return fig,ax\n",
    "\n",
    "def calFFT(signal,fs):\n",
    "    number_sample = signal.shape[0]\n",
    "    realRange = fs//2\n",
    "\n",
    "    mag = np.abs(fft(signal))\n",
    "    mag_norm = mag / (number_sample/2)\n",
    "    mag_range = mag_norm[:number_sample//2]\n",
    "\n",
    "    f_range = np.linspace(0,realRange,number_sample//2)\n",
    "    \n",
    "    return mag_range, f_range\n",
    "\n",
    "def \n"
   ]
  },
  {
   "cell_type": "code",
   "execution_count": 14,
   "metadata": {
    "tags": []
   },
   "outputs": [],
   "source": [
    "fs = 500\n",
    "f = 15\n",
    "t = np.linspace(0,1,fs)\n",
    "s = 4 * np.cos(2 * np.pi * f * t)\n",
    "noise = 4*((np.random.rand(fs) * 2) - 1)\n",
    "noise_s = s + noise"
   ]
  },
  {
   "cell_type": "code",
   "execution_count": 15,
   "metadata": {},
   "outputs": [
    {
     "output_type": "display_data",
     "data": {
      "text/plain": "Canvas(toolbar=Toolbar(toolitems=[('Home', 'Reset original view', 'home', 'home'), ('Back', 'Back to previous …",
      "application/vnd.jupyter.widget-view+json": {
       "version_major": 2,
       "version_minor": 0,
       "model_id": "c23a28aada004219ac7cddf78cd53b52"
      }
     },
     "metadata": {}
    },
    {
     "output_type": "execute_result",
     "data": {
      "text/plain": "[<matplotlib.lines.Line2D at 0x7f375b131400>]"
     },
     "metadata": {},
     "execution_count": 15
    }
   ],
   "source": [
    "fig,ax = createSubplot(2)\n",
    "\n",
    "ax[0].plot(t,s)\n",
    "ax[0].plot(t,noise_s,alpha=0.7)\n",
    "\n",
    "m_s, f_s = calFFT(s,fs)\n",
    "h = np.argmax(m_s)\n",
    "ax[1].plot(f_s,m_s)\n",
    "m_s, f_s = calFFT(noise_s,fs)\n",
    "h = np.argmax(m_s)\n",
    "ax[1].plot(f_s,m_s,alpha=0.7)"
   ]
  },
  {
   "cell_type": "code",
   "execution_count": 24,
   "metadata": {
    "tags": []
   },
   "outputs": [
    {
     "output_type": "display_data",
     "data": {
      "text/plain": "Canvas(toolbar=Toolbar(toolitems=[('Home', 'Reset original view', 'home', 'home'), ('Back', 'Back to previous …",
      "application/vnd.jupyter.widget-view+json": {
       "version_major": 2,
       "version_minor": 0,
       "model_id": "10dd4d0738014a56a16c897e8be83221"
      }
     },
     "metadata": {}
    },
    {
     "output_type": "display_data",
     "data": {
      "text/plain": "Canvas(toolbar=Toolbar(toolitems=[('Home', 'Reset original view', 'home', 'home'), ('Back', 'Back to previous …",
      "application/vnd.jupyter.widget-view+json": {
       "version_major": 2,
       "version_minor": 0,
       "model_id": "38771674387842d18dfd5ff984ecac12"
      }
     },
     "metadata": {}
    },
    {
     "output_type": "execute_result",
     "data": {
      "text/plain": "[<matplotlib.lines.Line2D at 0x7f375adaa070>]"
     },
     "metadata": {},
     "execution_count": 24
    }
   ],
   "source": [
    "fig,ax = createSubplot(2)\n",
    "\n",
    "# scipy.signal.butter(N, Wn, btype='low', analog=False, output='ba', fs=None)\n",
    "order = 2\n",
    "cut_off = 0.25\n",
    "b,a = signal.butter(order,cut_off,analog=False, btype='low',output='ba')\n",
    "# Frequency Response\n",
    "worN = fs // 2\n",
    "w,n = signal.freqz(b,a,worN=worN)\n",
    "\n",
    "ax[0].plot(w/np.pi,n)\n",
    "# Filter\n",
    "filtered = signal.lfilter(b, a, noise_s)#, axis=- 1, zi=None)\n",
    "ax[1].plot(t,noise_s)\n",
    "ax[1].plot(t,filtered)\n",
    "\n",
    "fig,ax = createSubplot(1)\n",
    "\n",
    "m_s, f_s = calFFT(noise_s,fs)\n",
    "h = np.argmax(m_s)\n",
    "ax.plot(f_s[:fs//10],m_s[:fs//10])\n",
    "m_s, f_s = calFFT(filtered,fs)\n",
    "h = np.argmax(m_s)\n",
    "ax.plot(f_s[:fs//10],m_s[:fs//10],alpha=0.7)\n",
    "\n",
    "\n",
    "# scipy.signal.cheby1(N, rp, Wn, btype='low', analog=False, output='ba', fs=None)\n",
    "# scipy.signal.cheby2(N, rs, Wn, btype='low', analog=False, output='ba', fs=None)\n",
    "# scipy.signal.ellip(N, rp, rs, Wn, btype='low', analog=False, output='ba', fs=None)"
   ]
  },
  {
   "cell_type": "code",
   "execution_count": null,
   "metadata": {},
   "outputs": [],
   "source": []
  }
 ]
}