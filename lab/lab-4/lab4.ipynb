{
 "metadata": {
  "language_info": {
   "codemirror_mode": {
    "name": "ipython",
    "version": 3
   },
   "file_extension": ".py",
   "mimetype": "text/x-python",
   "name": "python",
   "nbconvert_exporter": "python",
   "pygments_lexer": "ipython3",
   "version": "3.8.2-final"
  },
  "orig_nbformat": 2,
  "kernelspec": {
   "name": "python_defaultSpec_1600837330524",
   "display_name": "Python 3.8.2 64-bit ('pythonDSAI': venv)"
  }
 },
 "nbformat": 4,
 "nbformat_minor": 2,
 "cells": [
  {
   "source": [
    "# Lab4 Filter"
   ],
   "cell_type": "markdown",
   "metadata": {}
  },
  {
   "cell_type": "code",
   "execution_count": 1,
   "metadata": {},
   "outputs": [],
   "source": [
    "import numpy as np\n",
    "import matplotlib.pyplot as plt\n",
    "import scipy.signal as signal\n",
    "import scipy.fft as fft\n",
    "%matplotlib widget\n",
    "plt.style.use('seaborn-whitegrid')\n",
    "fs=500\n",
    "\n",
    "def createSubplot(row,col=1):\n",
    "    fig,ax = plt.subplots(row,col)#,figsize=(10,10))\n",
    "    fig.tight_layout(pad=3.0)\n",
    "    return fig,ax\n",
    "\n",
    "def calFFT(signal,fs):\n",
    "    number_sample = signal.shape[0]\n",
    "    realRange = fs//2\n",
    "\n",
    "    mag = np.abs(fft(signal))\n",
    "    mag_norm = mag / (number_sample/2)\n",
    "    mag_range = mag_norm[:number_sample//2]\n",
    "\n",
    "    f_range = np.linspace(0,realRange,number_sample//2)\n",
    "    \n",
    "    return mag_range, f_range"
   ]
  },
  {
   "source": [
    "1. Describe in breif in the following filters\n",
    "- Butterworth\n",
    "- Chebyshev 1\n",
    "- Chebyshev 2\n",
    "- Ellipticol (Ellipticol)\n",
    "\n",
    "2. plot the frequency response of the above filters\n",
    "- Equiripple Amplitube Characeristic of the filters\n",
    "\n",
    "3. Demonstrate the use of above filters in removing noise from a signal."
   ],
   "cell_type": "markdown",
   "metadata": {}
  },
  {
   "cell_type": "code",
   "execution_count": 2,
   "metadata": {
    "tags": []
   },
   "outputs": [],
   "source": [
    "# 2. Let's plot frequency response of each filter first\n",
    "filter_bw = 0\n",
    "filter_c1 = 1\n",
    "filter_c2 = 2\n",
    "filter_el = 3\n",
    "filter_name = ['Butterworth', 'Chebyshev 1', 'Chebyshev 2', 'Ellipticol']\n",
    "def getFilter(filter=0,order=2,lowcut=-1,highcut=-1,fs=500, rp=2, rs=20):\n",
    "    b,a = None, None\n",
    "    cut_off = None\n",
    "    btype = None\n",
    "    if(lowcut != -1 and highcut != -1):\n",
    "        cut_off = [lowcut,highcut]\n",
    "        btype = 'bandpass'\n",
    "    elif(lowcut != -1):\n",
    "        cut_off = lowcut\n",
    "        btype = 'highpass'\n",
    "    elif(highcut != -1):\n",
    "        cut_off = highcut\n",
    "        btype = 'lowpass'\n",
    "    else:\n",
    "        raise ValueError(f\"Both lowcut and highcut cannot be -1 at the same time\")\n",
    "\n",
    "    if(filter == 0):\n",
    "        # scipy.signal.butter(N, Wn, btype='low', analog=False, output='ba', fs=None)\n",
    "        b,a = signal.butter(N=order,Wn=cut_off,btype=btype,output='ba',fs=fs)\n",
    "    elif(filter == 1):\n",
    "        # scipy.signal.cheby1(N, rp, Wn, btype='low', analog=False, output='ba', fs=None)\n",
    "        b,a = signal.cheby1(N=order,Wn=cut_off,btype=btype,output='ba',fs=fs, rp=rp)\n",
    "    elif(filter == 2):\n",
    "        # scipy.signal.cheby2(N, rs, Wn, btype='low', analog=False, output='ba', fs=None)\n",
    "        b,a = signal.cheby2(N=order,Wn=cut_off,btype=btype,output='ba',fs=fs, rs=rs)\n",
    "    elif(filter == 3):\n",
    "        # scipy.signal.ellip(N, rp, rs, Wn, btype='low', analog=False, output='ba', fs=None)\n",
    "        b,a = signal.ellip(N=order,Wn=cut_off,btype=btype,output='ba',fs=fs, rp=rp,rs=rs)\n",
    "    else:\n",
    "        raise ValueError(f\"No filter type {filter}\")\n",
    "    return b,a\n",
    "\n",
    "def getFreqResponse(b,a,fs):\n",
    "    w,n = signal.freqz(b,a,worN=(fs//2))\n",
    "    return w/np.pi,abs(n)"
   ]
  },
  {
   "source": [
    "# 2. The Response of filters"
   ],
   "cell_type": "markdown",
   "metadata": {}
  },
  {
   "cell_type": "code",
   "execution_count": 3,
   "metadata": {},
   "outputs": [
    {
     "output_type": "display_data",
     "data": {
      "text/plain": "Canvas(toolbar=Toolbar(toolitems=[('Home', 'Reset original view', 'home', 'home'), ('Back', 'Back to previous …",
      "application/vnd.jupyter.widget-view+json": {
       "version_major": 2,
       "version_minor": 0,
       "model_id": "ab11f5df14c54380bfec296ff7873922"
      }
     },
     "metadata": {}
    }
   ],
   "source": [
    "orders = [1,2,4,8,16]\n",
    "filters = [filter_bw,filter_c1,filter_c2,filter_el]\n",
    "fig = plt.figure()\n",
    "fig.subplots_adjust(hspace=0.5)\n",
    "for i,filter in enumerate(filters):\n",
    "    ax = fig.add_subplot(2,2,i+1)\n",
    "    ax.set_title(f\"{filter_name[filter]} filter\")\n",
    "    ax.set_xlabel('Normalized Frequncy')\n",
    "    ax.set_ylabel('Response')\n",
    "    for order in orders:\n",
    "        # print(filter,order)\n",
    "        b,a = getFilter(filter=filter,order=order,lowcut=-1,highcut=fs//4,fs=500)\n",
    "        w,n = getFreqResponse(b,a,fs=500)\n",
    "        ax.plot(w,n, label=f\"order {order}\")\n",
    "    ax.legend()\n",
    "plt.show()"
   ]
  },
  {
   "source": [
    "# 1. \n",
    "Describe in breif in the following filters\n",
    "\n",
    "Monotonic: The characteristic of which the response of the filter is smooth (no fluctuation)\n",
    "\n",
    "Equiripple: The characteristic of which the response of the filter is fluctuated\n",
    "\n",
    "Passband: The section where the response is 1\n",
    "\n",
    "Stopband: The section where the response is 0\n",
    "\n",
    "\n",
    "- Butterworth\n",
    "    - Both Passband and Stopband are Monotonic \n",
    "\n",
    "- Chebyshev 1\n",
    "    - The Passband has ripples but not in the Stopband\n",
    "\n",
    "- Chebyshev 2\n",
    "    - The Stopband has ripples but not in the Passband\n",
    "\n",
    "- Ellipticol (Ellipticol)\n",
    "    - Both Passband and Stopband are Equiripple\n"
   ],
   "cell_type": "markdown",
   "metadata": {}
  },
  {
   "source": [
    "# 3. Filter in action"
   ],
   "cell_type": "markdown",
   "metadata": {}
  },
  {
   "cell_type": "code",
   "execution_count": 4,
   "metadata": {},
   "outputs": [
    {
     "output_type": "display_data",
     "data": {
      "text/plain": "Canvas(toolbar=Toolbar(toolitems=[('Home', 'Reset original view', 'home', 'home'), ('Back', 'Back to previous …",
      "application/vnd.jupyter.widget-view+json": {
       "version_major": 2,
       "version_minor": 0,
       "model_id": "44acf87e93e6404dbb42f254add8547d"
      }
     },
     "metadata": {}
    },
    {
     "output_type": "execute_result",
     "data": {
      "text/plain": "<matplotlib.legend.Legend at 0x7f8f664481c0>"
     },
     "metadata": {},
     "execution_count": 4
    }
   ],
   "source": [
    "fs = 500\n",
    "f = 15\n",
    "t = np.linspace(0,1,fs)\n",
    "s = 4 * np.cos(2 * np.pi * f * t)\n",
    "noise = 4*((np.random.rand(fs) * 2) - 1)\n",
    "noise_s = s + noise\n",
    "\n",
    "fig,ax = createSubplot(2)\n",
    "\n",
    "ax[0].plot(t,s,label='Original Signal')\n",
    "ax[0].plot(t,noise_s,alpha=0.7,label='Noised Signal')\n",
    "ax[0].set_xlabel('Time (sec)')\n",
    "ax[0].set_ylabel('Magnitude (V)')\n",
    "ax[0].set_title('Our signals in time domain')\n",
    "ax[0].legend()\n",
    "\n",
    "m_s, f_s = calFFT(s,fs)\n",
    "h = np.argmax(m_s)\n",
    "ax[1].plot(f_s,m_s,label='Original Frequency')\n",
    "m_s, f_s = calFFT(noise_s,fs)\n",
    "h = np.argmax(m_s)\n",
    "ax[1].plot(f_s,m_s,alpha=0.7,label='Noised Frequency')\n",
    "ax[1].set_xlabel('Frequency (Hz)')\n",
    "ax[1].set_ylabel('Magnitude (V)')\n",
    "ax[1].set_title('Our signals in frequency domain')\n",
    "ax[1].legend()"
   ]
  },
  {
   "cell_type": "code",
   "execution_count": 5,
   "metadata": {},
   "outputs": [
    {
     "output_type": "display_data",
     "data": {
      "text/plain": "Canvas(toolbar=Toolbar(toolitems=[('Home', 'Reset original view', 'home', 'home'), ('Back', 'Back to previous …",
      "application/vnd.jupyter.widget-view+json": {
       "version_major": 2,
       "version_minor": 0,
       "model_id": "33a8a077b54a4157b68e3323ece5b72c"
      }
     },
     "metadata": {}
    }
   ],
   "source": [
    "filtered = []\n",
    "fig = plt.figure()\n",
    "fig.subplots_adjust(hspace=0.5)\n",
    "for filter in filters:\n",
    "    ax = fig.add_subplot(4,1,filter+1)\n",
    "    ax.set_title(f\"Denoise using {filter_name[filter]} filter\")\n",
    "    ax.set_xlabel('Frequency (Hz)')\n",
    "    ax.set_ylabel('Magnitude (V)')\n",
    "    for i, order in enumerate(orders[:-2]):\n",
    "        b,a = getFilter(filter=filter,order=order,lowcut=13,highcut=17,fs=500)\n",
    "        tmp = signal.lfilter(b,a,noise_s)\n",
    "        m_s, f_s = calFFT(tmp,fs)\n",
    "        h = np.argmax(m_s)\n",
    "        ax.plot(f_s,m_s,alpha=0.5,label=f\"order {order}\")\n",
    "    ax.legend()"
   ]
  },
  {
   "source": [
    "# Interpretation\n",
    "Due to the Monotonic in stopband section of both Butterworth and Cherbyshev 1, the noises outside 14-17 Hz is removed significantly.\n",
    "\n",
    "Some of the noise is remain exist in the other two filters (Cherbyshev 2 and Ellipticol) because both filters allow some freqency to pass due to Equiripple nature.\n",
    "\n",
    "Follow the same logic, Cherbyshev 1 and Ellipticol are affecting the 15Hz because of the Equiripple characteristic.\n",
    "\n",
    "Interestingly, Cherbyshev 2 with order 1 reduced the 15 Hz by more than half. This is as expected due to the freqency response of Cherbyshev 2 with order 1.\n"
   ],
   "cell_type": "markdown",
   "metadata": {}
  },
  {
   "cell_type": "code",
   "execution_count": null,
   "metadata": {},
   "outputs": [],
   "source": []
  }
 ]
}