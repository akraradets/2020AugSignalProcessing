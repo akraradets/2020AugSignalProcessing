{
 "metadata": {
  "language_info": {
   "codemirror_mode": {
    "name": "ipython",
    "version": 3
   },
   "file_extension": ".py",
   "mimetype": "text/x-python",
   "name": "python",
   "nbconvert_exporter": "python",
   "pygments_lexer": "ipython3",
   "version": "3.8.2-final"
  },
  "orig_nbformat": 2,
  "kernelspec": {
   "name": "python_defaultSpec_1600755804972",
   "display_name": "Python 3.8.2 64-bit ('pythonDSAI': venv)"
  }
 },
 "nbformat": 4,
 "nbformat_minor": 2,
 "cells": [
  {
   "source": [
    "# Lab4 Filter"
   ],
   "cell_type": "markdown",
   "metadata": {}
  },
  {
   "cell_type": "code",
   "execution_count": 5,
   "metadata": {},
   "outputs": [],
   "source": [
    "import numpy as np\n",
    "import matplotlib.pyplot as plt\n",
    "import scipy.signal as signal\n",
    "import scipy.fft as fft\n",
    "%matplotlib widget\n",
    "plt.style.use('seaborn-whitegrid')\n",
    "\n",
    "def createSubplot(n):\n",
    "    fig,ax = plt.subplots(n)#,figsize=(10,10))\n",
    "    fig.tight_layout(pad=3.0)\n",
    "    return fig,ax\n",
    "\n",
    "def calFFT(signal,fs):\n",
    "    number_sample = signal.shape[0]\n",
    "    realRange = fs//2\n",
    "\n",
    "    mag = np.abs(fft(signal))\n",
    "    mag_norm = mag / (number_sample/2)\n",
    "    mag_range = mag_norm[:number_sample//2]\n",
    "\n",
    "    f_range = np.linspace(0,realRange,number_sample//2)\n",
    "    \n",
    "    return mag_range, f_range"
   ]
  },
  {
   "cell_type": "code",
   "execution_count": 6,
   "metadata": {
    "tags": []
   },
   "outputs": [],
   "source": [
    "fs = 500\n",
    "f = 15\n",
    "t = np.linspace(0,1,fs)\n",
    "s = 4 * np.cos(2 * np.pi * f * t)\n",
    "noise = 4*((np.random.rand(fs) * 2) - 1)\n",
    "noise_s = s + noise"
   ]
  },
  {
   "cell_type": "code",
   "execution_count": 33,
   "metadata": {},
   "outputs": [
    {
     "output_type": "display_data",
     "data": {
      "text/plain": "Canvas(toolbar=Toolbar(toolitems=[('Home', 'Reset original view', 'home', 'home'), ('Back', 'Back to previous …",
      "application/vnd.jupyter.widget-view+json": {
       "version_major": 2,
       "version_minor": 0,
       "model_id": "ff977fbbd2ff4f1bba3ba1064eed6389"
      }
     },
     "metadata": {}
    },
    {
     "output_type": "execute_result",
     "data": {
      "text/plain": "<matplotlib.legend.Legend at 0x7f72ffaa7730>"
     },
     "metadata": {},
     "execution_count": 33
    }
   ],
   "source": [
    "fig,ax = createSubplot(2)\n",
    "\n",
    "ax[0].plot(t,s,label='Original Signal')\n",
    "ax[0].plot(t,noise_s,alpha=0.7,label='Noised Signal')\n",
    "ax[0].set_xlabel('Time (sec)')\n",
    "ax[0].set_ylabel('Magnitude (V)')\n",
    "ax[0].set_title('Our signals in time domain')\n",
    "ax[0].legend()\n",
    "\n",
    "m_s, f_s = calFFT(s,fs)\n",
    "h = np.argmax(m_s)\n",
    "ax[1].plot(f_s,m_s,label='Original Frequency')\n",
    "m_s, f_s = calFFT(noise_s,fs)\n",
    "h = np.argmax(m_s)\n",
    "ax[1].plot(f_s,m_s,alpha=0.7,label='Noised Frequency')\n",
    "ax[1].set_xlabel('Frequency (Hz)')\n",
    "ax[1].set_ylabel('Magnitude (V)')\n",
    "ax[1].set_title('Our signals in frequency domain')\n",
    "ax[1].legend()"
   ]
  },
  {
   "source": [
    "1. Describe in breif in the following filters\n",
    "- Butterworth\n",
    "- Chebyshev 1\n",
    "- Chebyshev 2\n",
    "- Ellipticol (Ellipticol)\n",
    "\n",
    "2. plot the frequency response of the above filters\n",
    "- Equiripple Amplitube Characeristic of the filters\n",
    "\n",
    "3. Demonstrate the use of above filters in removing noise from a signal."
   ],
   "cell_type": "markdown",
   "metadata": {}
  },
  {
   "cell_type": "code",
   "execution_count": 26,
   "metadata": {
    "tags": []
   },
   "outputs": [
    {
     "output_type": "display_data",
     "data": {
      "text/plain": "Canvas(toolbar=Toolbar(toolitems=[('Home', 'Reset original view', 'home', 'home'), ('Back', 'Back to previous …",
      "application/vnd.jupyter.widget-view+json": {
       "version_major": 2,
       "version_minor": 0,
       "model_id": "18fdf5725ffc44abbaa9ac2c249f9b82"
      }
     },
     "metadata": {}
    },
    {
     "output_type": "display_data",
     "data": {
      "text/plain": "Canvas(toolbar=Toolbar(toolitems=[('Home', 'Reset original view', 'home', 'home'), ('Back', 'Back to previous …",
      "application/vnd.jupyter.widget-view+json": {
       "version_major": 2,
       "version_minor": 0,
       "model_id": "f476c0fa0b2b4a75b6c23fdb42b134e1"
      }
     },
     "metadata": {}
    },
    {
     "output_type": "execute_result",
     "data": {
      "text/plain": "[<matplotlib.lines.Line2D at 0x7f73002f9670>]"
     },
     "metadata": {},
     "execution_count": 26
    }
   ],
   "source": [
    "# 2. Let's plot frequency response\n",
    "filter_bw = 0\n",
    "filter_c1 = 1\n",
    "filter_c2 = 2\n",
    "filter_el = 3\n",
    "def getFilter(filter=0,order=2,lowcut=-1,highcut=-1,fs=500):\n",
    "    b,a = None, None\n",
    "    cut_off = None\n",
    "    bytpe = None\n",
    "    if(lowcut != -1 and highcut != -1):\n",
    "        cut_off = [lowcut,highcut]\n",
    "        bytpe = 'bandpass'\n",
    "    elif(lowcut != -1):\n",
    "        cut_off = lowcut\n",
    "        btype = 'highpass'\n",
    "    elif(highcut != -1):\n",
    "        cutoff = highcut\n",
    "        bytpe = 'lowpass'\n",
    "    else:\n",
    "        raise ValueError f\"Both lowcut and highcut cannot be -1 at the same time\"\n",
    "\n",
    "    if(fiter == 0):\n",
    "        b,a = signal.butter(N=order,Wn=cut_off,fs=fs,btype=btype,output='ba',fs=fs)\n",
    "    elif(filter == 1):\n",
    "        b,a = signal.butter(N=order,Wn=cut_off,fs=fs,btype=btype,output='ba',fs=fs)\n",
    "    elif(filter == 2):\n",
    "        b,a = signal.butter(N=order,Wn=cut_off,fs=fs,btype=btype,output='ba',fs=fs)\n",
    "    elif(filter == 3):\n",
    "        b,a = signal.butter(N=order,Wn=cut_off,fs=fs,btype=btype,output='ba',fs=fs)\n",
    "    else:\n",
    "        raise ValueError f\"No filter type {filter}\"\n",
    "    return b,a\n",
    "\n",
    "fig,ax = createSubplot(2)\n",
    "\n",
    "# scipy.signal.butter(N, Wn, btype='low', analog=False, output='ba', fs=None)\n",
    "order = 10\n",
    "cut_off = 20\n",
    "b,a = signal.butter(order,cut_off,fs=fs)\n",
    "# Frequency Response\n",
    "worN = fs // 2\n",
    "w,n = signal.freqz(b,a,worN=worN)\n",
    "\n",
    "ax[0].plot(w/np.pi,abs(n))\n",
    "# Filter\n",
    "filtered = signal.lfilter(b, a, noise_s)#, axis=- 1, zi=None)\n",
    "ax[1].plot(t,noise_s)\n",
    "ax[1].plot(t,filtered)\n",
    "\n",
    "fig,ax = createSubplot(1)\n",
    "\n",
    "m_s, f_s = calFFT(noise_s,fs)\n",
    "h = np.argmax(m_s)\n",
    "ax.plot(f_s[:fs//10],m_s[:fs//10])\n",
    "m_s, f_s = calFFT(filtered,fs)\n",
    "h = np.argmax(m_s)\n",
    "ax.plot(f_s[:fs//10],m_s[:fs//10],alpha=0.7)\n",
    "\n",
    "\n",
    "# scipy.signal.cheby1(N, rp, Wn, btype='low', analog=False, output='ba', fs=None)\n",
    "# scipy.signal.cheby2(N, rs, Wn, btype='low', analog=False, output='ba', fs=None)\n",
    "# scipy.signal.ellip(N, rp, rs, Wn, btype='low', analog=False, output='ba', fs=None)"
   ]
  },
  {
   "cell_type": "code",
   "execution_count": null,
   "metadata": {},
   "outputs": [],
   "source": []
  }
 ]
}